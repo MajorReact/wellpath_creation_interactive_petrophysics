{
 "cells": [
  {
   "cell_type": "code",
   "execution_count": 6,
   "id": "df2151b5",
   "metadata": {},
   "outputs": [],
   "source": [
    "#import libraries \n",
    "import wellpathpy as wp\n",
    "import matplotlib.pyplot as plt\n",
    "\n",
    "import numpy as np\n",
    "np.set_printoptions(suppress=True)"
   ]
  },
  {
   "cell_type": "code",
   "execution_count": 11,
   "id": "8a5ef802",
   "metadata": {},
   "outputs": [],
   "source": [
    "md, inc, azi = wp.read_csv('C:/Users/Sam/Documents/IPP/Well_Path_Creation_Using_WellPathPY/0ML_4-3_Survey_Data.csv')"
   ]
  },
  {
   "cell_type": "code",
   "execution_count": 12,
   "id": "1a06452e",
   "metadata": {
    "scrolled": true
   },
   "outputs": [
    {
     "data": {
      "text/plain": [
       "array([   0.  ,  145.  ,  150.  ,  180.  ,  210.  ,  240.  ,  254.  ,\n",
       "        270.  ,  284.  ,  300.  ,  330.  ,  360.  ,  390.  ,  420.  ,\n",
       "        450.  ,  480.  ,  510.  ,  524.  ,  540.  ,  570.  ,  600.  ,\n",
       "        630.  ,  660.  ,  690.  ,  720.  ,  750.  ,  780.  ,  810.  ,\n",
       "        840.  ,  870.  ,  892.38,  900.  ,  930.  ,  960.  ,  990.  ,\n",
       "       1020.  ])"
      ]
     },
     "execution_count": 12,
     "metadata": {},
     "output_type": "execute_result"
    }
   ],
   "source": [
    "md"
   ]
  },
  {
   "cell_type": "code",
   "execution_count": 9,
   "id": "43278979",
   "metadata": {},
   "outputs": [],
   "source": []
  },
  {
   "cell_type": "code",
   "execution_count": 10,
   "id": "33a21983",
   "metadata": {},
   "outputs": [
    {
     "data": {
      "text/plain": [
       "'md'"
      ]
     },
     "execution_count": 10,
     "metadata": {},
     "output_type": "execute_result"
    }
   ],
   "source": [
    "md"
   ]
  },
  {
   "cell_type": "code",
   "execution_count": null,
   "id": "d2546f09",
   "metadata": {},
   "outputs": [],
   "source": []
  }
 ],
 "metadata": {
  "kernelspec": {
   "display_name": "Python 3 (ipykernel)",
   "language": "python",
   "name": "python3"
  },
  "language_info": {
   "codemirror_mode": {
    "name": "ipython",
    "version": 3
   },
   "file_extension": ".py",
   "mimetype": "text/x-python",
   "name": "python",
   "nbconvert_exporter": "python",
   "pygments_lexer": "ipython3",
   "version": "3.10.10"
  }
 },
 "nbformat": 4,
 "nbformat_minor": 5
}
